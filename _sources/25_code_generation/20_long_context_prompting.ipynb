{
 "cells": [
  {
   "cell_type": "markdown",
   "id": "4cd0105d-1774-4eb6-9e19-d92903c05232",
   "metadata": {},
   "source": [
    "# Long-context prompting\n",
    "\n",
    "One can enrich a prompt to an LLM with a knowledge base, e.g. code snippets in the bio-image analysis context. This notebook demonstrates how to use such a knowledge-base for code generation."
   ]
  },
  {
   "cell_type": "code",
   "execution_count": 1,
   "id": "d2aca620-5d60-4847-9e0e-d90f34aa95d0",
   "metadata": {
    "tags": []
   },
   "outputs": [],
   "source": [
    "from llm_utilities import prompt_scadsai_llm"
   ]
  },
  {
   "cell_type": "markdown",
   "id": "9a59ef70-81f2-42b8-9ead-37efbd3d3622",
   "metadata": {},
   "source": [
    "First we define a knowledge base. This _document_ is use-case-agnositic. We will use the same knowledge base independent from the task we're trying to solve."
   ]
  },
  {
   "cell_type": "code",
   "execution_count": 2,
   "id": "38b40892-2e58-44b0-a2e2-deddfd8e2d33",
   "metadata": {
    "tags": []
   },
   "outputs": [],
   "source": [
    "knowledge_base = \"\"\"## Code snippets\n",
    "\n",
    "You typically assemble code snippets when working with Python. The following snippets are given:\n",
    "\n",
    "* When asked to segment nuclei, use the cellpose library like this:\n",
    "\n",
    "```python\n",
    "from cellpose import models\n",
    "\n",
    "model = models.CellposeModel(gpu=False)\n",
    "masks, flows, styles = model.eval(image, \n",
    "                                  batch_size=32, \n",
    "                                  flow_threshold=0.4, \n",
    "                                  cellprob_threshold=0.0,\n",
    "                                  normalize={\"tile_norm_blocksize\": 0})\n",
    "label_image = masks.astype(np.uint32)\n",
    "```\n",
    "\n",
    "* When asked to segment anything else but nuclei, use otsu-thresholding:\n",
    "\n",
    "```python\n",
    "from skimage.measure import label\n",
    "from skimage.filters import threshold_otsu\n",
    "\n",
    "# process the image\n",
    "labeled = label(image > threshold_otsu(image))\n",
    "```\n",
    "\n",
    "*When asked to open an image, use this code:\n",
    "\n",
    "```python\n",
    "from skimage.io import imread, imsave\n",
    "\n",
    "image = imread('image.tif')\n",
    "```\n",
    "\n",
    "* When asekd to visualize images, use this code at the very end of the code:\n",
    "\n",
    "```python\n",
    "import stackview\n",
    "stackview.insight(image)\n",
    "```\n",
    "\n",
    "When writing code make sure the code is executable, \n",
    "e.g. make sure import statements are there and variables are named consistently.\n",
    "\"\"\""
   ]
  },
  {
   "cell_type": "markdown",
   "id": "22528b18-11b3-47a8-98e9-7670100448b2",
   "metadata": {},
   "source": [
    "Next, we formulate the specific task at hand. In this example, we aim to develop a simple image processing workflow."
   ]
  },
  {
   "cell_type": "code",
   "execution_count": 3,
   "id": "b0cfe2f8-ed0a-4239-8c0e-782ee9c3227a",
   "metadata": {},
   "outputs": [],
   "source": [
    "task = \"\"\"Please write code that does this\n",
    "* loads blobs.tif, \n",
    "* segment roundish objects in the image and \n",
    "* visualize the result \"\"\""
   ]
  },
  {
   "cell_type": "markdown",
   "id": "884a086f-15e6-4adf-ac0a-f3157504ec8a",
   "metadata": {},
   "source": [
    "Finally, the prompt is assembled from the generic knowledge base and the specific task."
   ]
  },
  {
   "cell_type": "code",
   "execution_count": 4,
   "id": "b1a87e21-3386-48f3-a65d-008edecb3760",
   "metadata": {},
   "outputs": [],
   "source": [
    "prompt = f\"\"\"You are an excellent bio-image analyst and python programmer.\n",
    "\n",
    "Your task is to write code in Jupyter Notebook cells. \n",
    "Always write one piece of code that goes into a Jupyter cell.\n",
    "\n",
    "{knowledge_base}\n",
    "\n",
    "## Your task:\n",
    "\n",
    "{task}\n",
    "\n",
    "## Final hints\n",
    "Make sure there are comments between the code blocks.\n",
    "\"\"\""
   ]
  },
  {
   "cell_type": "markdown",
   "id": "513bb10d-3db1-41bf-a581-384f8285e4ec",
   "metadata": {},
   "source": [
    "The prompt can then be sent to the LLM service provider to generate code for our task."
   ]
  },
  {
   "cell_type": "code",
   "execution_count": 5,
   "id": "dcf45cea-ac1b-400f-b724-bf8fb031fe7a",
   "metadata": {
    "tags": []
   },
   "outputs": [
    {
     "name": "stdout",
     "output_type": "stream",
     "text": [
      "# Import necessary libraries\n",
      "from skimage.io import imread, imsave\n",
      "import numpy as np\n",
      "from skimage.measure import label\n",
      "from skimage.filters import threshold_otsu\n",
      "\n",
      "# Load the image\n",
      "image = imread('blobs.tif')\n",
      "```\n",
      "\n",
      "```python\n",
      "# Segment roundish objects in the image using otsu-thresholding\n",
      "labeled = label(image > threshold_otsu(image))\n",
      "```\n",
      "\n",
      "```python\n",
      "# Visualize the result\n",
      "import stackview\n",
      "stackview.insight(labeled)\n"
     ]
    }
   ],
   "source": [
    "code = prompt_scadsai_llm(prompt)\n",
    "\n",
    "# clean output\n",
    "code = code.strip(\"\\n\").strip(\"```python\").strip(\"```\").strip(\"\\n\")\n",
    "\n",
    "print(code)"
   ]
  },
  {
   "cell_type": "markdown",
   "id": "288d2415-1110-485a-be41-bb0ba31fc75c",
   "metadata": {},
   "source": [
    "## Exercise\n",
    "Extend the knowledge base above with more code snippets, e.g. feature extraction and plotting.\n",
    "Prompt for an advanced image processing workflow going from a raw image to a plot of extracted features."
   ]
  },
  {
   "cell_type": "code",
   "execution_count": null,
   "id": "209b2412-178e-4a8f-b3c5-c2efb9c1800b",
   "metadata": {},
   "outputs": [],
   "source": []
  }
 ],
 "metadata": {
  "kernelspec": {
   "display_name": "Python 3 (ipykernel)",
   "language": "python",
   "name": "python3"
  },
  "language_info": {
   "codemirror_mode": {
    "name": "ipython",
    "version": 3
   },
   "file_extension": ".py",
   "mimetype": "text/x-python",
   "name": "python",
   "nbconvert_exporter": "python",
   "pygments_lexer": "ipython3",
   "version": "3.11.13"
  }
 },
 "nbformat": 4,
 "nbformat_minor": 5
}
