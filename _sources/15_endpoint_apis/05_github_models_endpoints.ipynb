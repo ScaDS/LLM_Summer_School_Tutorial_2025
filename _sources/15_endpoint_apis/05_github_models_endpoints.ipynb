{
 "cells": [
  {
   "cell_type": "markdown",
   "id": "300eb7a0-35ca-47bf-a76b-a90799af24ef",
   "metadata": {},
   "source": [
    "# Github Models Marketplace\n",
    "If you have signed up to [Github Marketplace Models](https://github.com/marketplace/models/), you can use their infrastructure for prompting LLMs. Depending on which LLM you are using, you need to approach them differently. They can be used using the same API key though."
   ]
  },
  {
   "cell_type": "code",
   "execution_count": 1,
   "id": "c4c84a44-a88d-47cd-a675-7ed34af141b9",
   "metadata": {
    "tags": []
   },
   "outputs": [],
   "source": [
    "import openai"
   ]
  },
  {
   "cell_type": "code",
   "execution_count": 2,
   "id": "705270fd-13fc-4576-a1cf-cbd86b9523e8",
   "metadata": {},
   "outputs": [],
   "source": [
    "def prompt_github_models(prompt:str, model=\"gpt-4o\"):\n",
    "    \"\"\"A prompt helper function that sends a prompt to the \n",
    "    Github Model LLM-server and returns only the text response.\"\"\"\n",
    "    import os\n",
    "        \n",
    "    # setup connection to the LLM-server\n",
    "    client = openai.OpenAI(\n",
    "        base_url = \"https://models.inference.ai.azure.com/\",\n",
    "        api_key = os.environ.get(\"GH_MODELS_API_KEY\")\n",
    "    )\n",
    "    response = client.chat.completions.create(\n",
    "        model=model,\n",
    "        messages=[{\"role\": \"user\", \"content\": prompt}]\n",
    "    )\n",
    "    \n",
    "    # extract answer\n",
    "    return response.choices[0].message.content"
   ]
  },
  {
   "cell_type": "code",
   "execution_count": 3,
   "id": "0e525565-69ba-44c1-aee9-a55be03799fe",
   "metadata": {},
   "outputs": [
    {
     "data": {
      "text/plain": [
       "'The capital of France is **Paris**.'"
      ]
     },
     "execution_count": 3,
     "metadata": {},
     "output_type": "execute_result"
    }
   ],
   "source": [
    "prompt_github_models(\"What is the capital of france?\")"
   ]
  },
  {
   "cell_type": "markdown",
   "id": "69fc048e-cb22-4943-a824-01dd773b7fea",
   "metadata": {},
   "source": [
    "## Other models\n",
    "The same function also works with other models"
   ]
  },
  {
   "cell_type": "code",
   "execution_count": 4,
   "id": "670c96f7-423b-49d1-a3f2-3ee1936d5a96",
   "metadata": {},
   "outputs": [
    {
     "data": {
      "text/plain": [
       "\" The capital of France is Paris. It is not only the political and cultural center of the country but also well known for its fashion, art, and history. Paris is home to numerous historical landmarks including the Eiffel Tower, Notre-Dame Cathedral, and the Louvre Museum, which is the world's largest art museum and a historic monument. The city's influence extends much beyond France's borders, playing a key role in global affairs through diplomacy, tourism, and as a hub for international business.\""
      ]
     },
     "execution_count": 4,
     "metadata": {},
     "output_type": "execute_result"
    }
   ],
   "source": [
    "prompt_github_models(\"What is the capital of france?\", model=\"Phi-3.5-mini-instruct\")"
   ]
  },
  {
   "cell_type": "markdown",
   "id": "de348c4f-44a3-4151-bab8-9ff2fb65153e",
   "metadata": {},
   "source": [
    "## Exercise\n",
    "Check out different models on the [Github Models Marketplace](https://github.com/marketplace/models/) and invoke another one, e.g. a Mistral model."
   ]
  },
  {
   "cell_type": "code",
   "execution_count": null,
   "id": "c1cd22ef-2178-4551-89ca-000dd982eb3a",
   "metadata": {},
   "outputs": [],
   "source": []
  }
 ],
 "metadata": {
  "kernelspec": {
   "display_name": "Python 3 (ipykernel)",
   "language": "python",
   "name": "python3"
  },
  "language_info": {
   "codemirror_mode": {
    "name": "ipython",
    "version": 3
   },
   "file_extension": ".py",
   "mimetype": "text/x-python",
   "name": "python",
   "nbconvert_exporter": "python",
   "pygments_lexer": "ipython3",
   "version": "3.11.11"
  }
 },
 "nbformat": 4,
 "nbformat_minor": 5
}
