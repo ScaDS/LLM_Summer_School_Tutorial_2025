{
 "cells": [
  {
   "cell_type": "markdown",
   "id": "87404224-b84b-409f-8683-c4a243d29722",
   "metadata": {},
   "source": [
    "# Blablador endpoint\n",
    "In this notebook we will use the [blablador](https://helmholtz-blablador.fz-juelich.de/) infrastructure at the Research Center Jülich. Before you can access it, you need to create an API key as explained [on this page](https://sdlaml.pages.jsc.fz-juelich.de/ai/guides/blablador_api_access/) and store it in your environment as `BLABLADOR_API_KEY`. You will see that also this method uses the OpenAI API and we change the `base_url`."
   ]
  },
  {
   "cell_type": "code",
   "execution_count": 1,
   "id": "752e974d-9aaf-44aa-80fb-01a042cf5774",
   "metadata": {
    "tags": []
   },
   "outputs": [
    {
     "data": {
      "text/plain": [
       "'1.74.0'"
      ]
     },
     "execution_count": 1,
     "metadata": {},
     "output_type": "execute_result"
    }
   ],
   "source": [
    "import os\n",
    "import openai\n",
    "openai.__version__"
   ]
  },
  {
   "cell_type": "code",
   "execution_count": 6,
   "id": "ab55e229-93b9-4e9b-974d-037002690bf0",
   "metadata": {
    "tags": []
   },
   "outputs": [],
   "source": [
    "def prompt_blablador(prompt:str, model=\"alias-llama3-huge\"):\n",
    "    \"\"\"A prompt helper function that sends a prompt to Blablador (FZ Jülich)\n",
    "    and returns only the text response.\n",
    "    \"\"\"\n",
    "    import os\n",
    "    \n",
    "    # setup connection to the LLM-server\n",
    "    client = openai.OpenAI(\n",
    "        base_url = \"https://helmholtz-blablador.fz-juelich.de:8000/v1\",\n",
    "        api_key = os.environ.get('BLABLADOR_API_KEY')\n",
    "    )\n",
    "    response = client.chat.completions.create(\n",
    "        model=model,\n",
    "        messages=[{\"role\": \"user\", \"content\": prompt}]\n",
    "    )\n",
    "    \n",
    "    # extract answer\n",
    "    return response.choices[0].message.content"
   ]
  },
  {
   "cell_type": "code",
   "execution_count": 7,
   "id": "a7654a20-a307-4b26-8d25-bef20b70224e",
   "metadata": {
    "tags": []
   },
   "outputs": [
    {
     "data": {
      "text/plain": [
       "'Hello! How are you today? Is there something I can help you with, or would you like to chat?'"
      ]
     },
     "execution_count": 7,
     "metadata": {},
     "output_type": "execute_result"
    }
   ],
   "source": [
    "prompt_blablador(\"Hi!\")"
   ]
  },
  {
   "cell_type": "markdown",
   "id": "578e9edd-b58f-4fd0-a56d-1966105221dc",
   "metadata": {},
   "source": [
    "## Exercise\n",
    "List the models available in the blablador endpoint and try them out by specifying them when calling `prompt_blablador()`."
   ]
  },
  {
   "cell_type": "code",
   "execution_count": 8,
   "id": "05171ba7-a775-41c5-954d-7d4fc2b5b625",
   "metadata": {},
   "outputs": [
    {
     "name": "stdout",
     "output_type": "stream",
     "text": [
      "1 - Llama3 405 the best general model and big context size\n",
      "1 - Ministral 8b - the fast model\n",
      "1 - Teuken-7B-instruct-research-v0.4 - The OpenGPT-X model\n",
      "10 Mistral-Nemo-Instruct-2407 - Our fast-experimental - with a large context size\n",
      "2 - Qwen3 30B A3B - a reasoning model from Alibaba from April 2025\n",
      "3 - DeepCoder-14B-Preview - the code model from 09.04.2025\n",
      "alias-code\n",
      "alias-fast\n",
      "alias-fast-experimental\n",
      "alias-large\n",
      "alias-llama3-huge\n",
      "alias-opengptx\n",
      "alias-reasoning\n"
     ]
    }
   ],
   "source": [
    "client = openai.OpenAI(\n",
    "    base_url = \"https://helmholtz-blablador.fz-juelich.de:8000/v1\",\n",
    "    api_key = os.environ.get('BLABLADOR_API_KEY')\n",
    ")\n",
    "\n",
    "print(\"\\n\".join([model.id for model in client.models.list().data]))"
   ]
  },
  {
   "cell_type": "code",
   "execution_count": null,
   "id": "7e810ee2-4d22-42f6-add5-532cf95b4b9c",
   "metadata": {},
   "outputs": [],
   "source": []
  }
 ],
 "metadata": {
  "kernelspec": {
   "display_name": "Python 3 (ipykernel)",
   "language": "python",
   "name": "python3"
  },
  "language_info": {
   "codemirror_mode": {
    "name": "ipython",
    "version": 3
   },
   "file_extension": ".py",
   "mimetype": "text/x-python",
   "name": "python",
   "nbconvert_exporter": "python",
   "pygments_lexer": "ipython3",
   "version": "3.11.11"
  }
 },
 "nbformat": 4,
 "nbformat_minor": 5
}
