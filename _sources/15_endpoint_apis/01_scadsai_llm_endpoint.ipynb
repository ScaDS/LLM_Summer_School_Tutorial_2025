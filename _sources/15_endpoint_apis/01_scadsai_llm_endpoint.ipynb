{
 "cells": [
  {
   "cell_type": "markdown",
   "id": "87404224-b84b-409f-8683-c4a243d29722",
   "metadata": {},
   "source": [
    "# ScaDS.AI LLM endpoint\n",
    "In this notebook we will access large language mocels hosted at the [ScaDS.AI LLM infrastructure](https://llm.scads.ai/) infrastructure of the [Center for Information Services and High Performance Computing (ZIH) of TU Dresden](https://tu-dresden.de/zih). To use it, you must be connected via [TU Dresden VPN](https://tu-dresden.de/zih/dienste/service-katalog/arbeitsumgebung/zugang_datennetz/vpn). This method uses the [openai Python library](https://github.com/openai/openai-python), and the OpenAI API. We just change the `base_url`.\n",
    "\n",
    "## Read more\n",
    "* [ScaDS.AI LLM examples](https://gitlab.hrz.tu-chemnitz.de/scads-ai-llm/scads-ai-llm-api-examples)"
   ]
  },
  {
   "cell_type": "code",
   "execution_count": 1,
   "id": "752e974d-9aaf-44aa-80fb-01a042cf5774",
   "metadata": {
    "tags": []
   },
   "outputs": [
    {
     "data": {
      "text/plain": [
       "'1.91.0'"
      ]
     },
     "execution_count": 1,
     "metadata": {},
     "output_type": "execute_result"
    }
   ],
   "source": [
    "import os\n",
    "import openai\n",
    "openai.__version__"
   ]
  },
  {
   "cell_type": "code",
   "execution_count": 2,
   "id": "ab55e229-93b9-4e9b-974d-037002690bf0",
   "metadata": {
    "tags": []
   },
   "outputs": [],
   "source": [
    "def prompt_scadsai_llm(message:str, model=\"meta-llama/Llama-3.3-70B-Instruct\"):\n",
    "    \"\"\"A prompt helper function that sends a message to ScaDS.AI LLM server at \n",
    "    ZIH TU Dresden and returns only the text response.\n",
    "    \"\"\"\n",
    "    import os\n",
    "    import openai\n",
    "    \n",
    "    # convert message in the right format if necessary\n",
    "    if isinstance(message, str):\n",
    "        message = [{\"role\": \"user\", \"content\": message}]\n",
    "    \n",
    "    # setup connection to the LLM\n",
    "    client = openai.OpenAI(base_url=\"https://llm.scads.ai/v1\",\n",
    "                           api_key=os.environ.get('SCADSAI_API_KEY')\n",
    "    )\n",
    "    response = client.chat.completions.create(\n",
    "        model=model,\n",
    "        messages=message\n",
    "    )\n",
    "    \n",
    "    # extract answer\n",
    "    return response.choices[0].message.content"
   ]
  },
  {
   "cell_type": "code",
   "execution_count": 3,
   "id": "a7654a20-a307-4b26-8d25-bef20b70224e",
   "metadata": {
    "tags": []
   },
   "outputs": [
    {
     "name": "stdout",
     "output_type": "stream",
     "text": [
      "It's nice to meet you. Is there something I can help you with or would you like to chat?\n"
     ]
    }
   ],
   "source": [
    "print(prompt_scadsai_llm(\"Hi!\"))"
   ]
  },
  {
   "cell_type": "markdown",
   "id": "73cdb5b7-988f-493c-af46-9b3953150108",
   "metadata": {},
   "source": [
    "We can also use reasoning models such as the [DeepSeek-R1](https://github.com/deepseek-ai/DeepSeek-R1) model hosted on the server."
   ]
  },
  {
   "cell_type": "code",
   "execution_count": 4,
   "id": "8a5b19a5-f506-4b52-8130-553f02f1aaa7",
   "metadata": {},
   "outputs": [
    {
     "name": "stdout",
     "output_type": "stream",
     "text": [
      "\n",
      "\n",
      "The question \"What is the meaning of life?\" is one of humanity's oldest and most profound inquiries, with answers varying widely across philosophical, religious, scientific, and cultural perspectives. Here’s a synthesis of key viewpoints:\n",
      "\n",
      "1. **Religious/Spiritual Perspectives**:  \n",
      "   - Many religions propose that life’s purpose is tied to a divine plan. For example, Christianity emphasizes loving God and others, Buddhism focuses on ending suffering through enlightenment, and Islam highlights submission to Allah and righteous living.  \n",
      "   - Spirituality often centers on connection to a higher purpose, inner peace, or transcendence.\n",
      "\n",
      "2. **Philosophical Views**:  \n",
      "   - **Existentialism** (e.g., Sartre, Camus): Life has no inherent meaning; individuals must create their own purpose through choices, passions, and actions.  \n",
      "   - **Utilitarianism**: Maximizing happiness and reducing suffering for the greatest number.  \n",
      "   - **Absurdism** (Camus): Embracing the tension between seeking meaning and a universe that offers none, finding freedom in the act of living fully regardless.\n",
      "\n",
      "3. **Scientific Lens**:  \n",
      "   - Biology suggests life’s \"purpose\" may relate to survival, adaptation, and reproduction.  \n",
      "   - From a cosmic perspective, some argue meaning emerges from understanding our place in the universe through exploration and scientific inquiry.\n",
      "\n",
      "4. **Cultural & Personal Values**:  \n",
      "   - Societies emphasize different ideals—community, creativity, knowledge, or legacy.  \n",
      "   - Individuals often derive meaning from relationships, personal growth, art, career, activism, or contributing to others’ well-being.\n",
      "\n",
      "5. **Subjective Journey**:  \n",
      "   - Many find meaning in love, family, pursuing passions, or leaving a positive impact. Others see it as an ongoing quest rather than a fixed answer.  \n",
      "   - The search itself can be meaningful, fostering reflection, resilience, and connection.\n",
      "\n",
      "In essence, the meaning of life is not a universal answer but a deeply personal exploration. It may evolve over time, shaped by experiences, values, and the questions we ask. As Viktor Frankl wrote, \"Life is never made unbearable by circumstances, but only by lack of meaning and purpose.\" Ultimately, it’s a tapestry woven from the threads of choice, curiosity, and the connections we nurture.\n"
     ]
    }
   ],
   "source": [
    "print(prompt_scadsai_llm(\"What is the meaning of life?\", model=\"deepseek-ai/DeepSeek-R1\"))"
   ]
  },
  {
   "cell_type": "markdown",
   "id": "578e9edd-b58f-4fd0-a56d-1966105221dc",
   "metadata": {},
   "source": [
    "## Exercise\n",
    "List the models available in the endpoint and try them out by specifying them when calling `prompt_scadsai_llm(\"...\", model=...)`."
   ]
  },
  {
   "cell_type": "code",
   "execution_count": 5,
   "id": "05171ba7-a775-41c5-954d-7d4fc2b5b625",
   "metadata": {},
   "outputs": [
    {
     "name": "stdout",
     "output_type": "stream",
     "text": [
      "deepseek-ai/DeepSeek-Coder-V2-Lite-Instruct\n",
      "openGPT-X/Teuken-7B-instruct-research-v0.4\n",
      "Kokoro-82M\n",
      "stabilityai/stable-diffusion-3.5-large\n",
      "meta-llama/Llama-3.3-70B-Instruct\n",
      "intfloat/multilingual-e5-large-instruct\n",
      "en-de-translator\n",
      "meta-llama/Llama-4-Scout-17B-16E-Instruct\n",
      "mistral-7b-q4\n",
      "tts-1-hd\n",
      "black-forest-labs/FLUX.1-dev\n",
      "Qwen/Qwen2-VL-7B-Instruct\n",
      "deepseek-ai/DeepSeek-R1\n"
     ]
    }
   ],
   "source": [
    "client = openai.OpenAI(base_url=\"https://llm.scads.ai/v1\",\n",
    "                       api_key=os.environ.get('SCADSAI_API_KEY'))\n",
    "\n",
    "print(\"\\n\".join([model.id for model in client.models.list().data]))"
   ]
  },
  {
   "cell_type": "code",
   "execution_count": null,
   "id": "7e810ee2-4d22-42f6-add5-532cf95b4b9c",
   "metadata": {},
   "outputs": [],
   "source": []
  }
 ],
 "metadata": {
  "kernelspec": {
   "display_name": "Python 3 (ipykernel)",
   "language": "python",
   "name": "python3"
  },
  "language_info": {
   "codemirror_mode": {
    "name": "ipython",
    "version": 3
   },
   "file_extension": ".py",
   "mimetype": "text/x-python",
   "name": "python",
   "nbconvert_exporter": "python",
   "pygments_lexer": "ipython3",
   "version": "3.11.13"
  }
 },
 "nbformat": 4,
 "nbformat_minor": 5
}
