{
 "cells": [
  {
   "cell_type": "markdown",
   "id": "87404224-b84b-409f-8683-c4a243d29722",
   "metadata": {},
   "source": [
    "# ScaDS.AI LLM endpoint\n",
    "In this notebook we will access large language models hosted at the [ScaDS.AI LLM infrastructure](https://llm.scads.ai/) infrastructure of the [Center for Information Services and High Performance Computing (ZIH) of TU Dresden](https://tu-dresden.de/zih). To use it, you must be connected via [TU Dresden VPN](https://tu-dresden.de/zih/dienste/service-katalog/arbeitsumgebung/zugang_datennetz/vpn). This method uses the [openai Python library](https://github.com/openai/openai-python), and the OpenAI API. We just change the `base_url`.\n",
    "\n",
    "## Read more\n",
    "* [ScaDS.AI LLM examples](https://gitlab.hrz.tu-chemnitz.de/scads-ai-llm/scads-ai-llm-api-examples)"
   ]
  },
  {
   "cell_type": "code",
   "execution_count": 1,
   "id": "752e974d-9aaf-44aa-80fb-01a042cf5774",
   "metadata": {
    "tags": []
   },
   "outputs": [
    {
     "data": {
      "text/plain": [
       "'1.91.0'"
      ]
     },
     "execution_count": 1,
     "metadata": {},
     "output_type": "execute_result"
    }
   ],
   "source": [
    "import os\n",
    "import openai\n",
    "openai.__version__"
   ]
  },
  {
   "cell_type": "code",
   "execution_count": 2,
   "id": "ab55e229-93b9-4e9b-974d-037002690bf0",
   "metadata": {
    "tags": []
   },
   "outputs": [],
   "source": [
    "def prompt_scadsai_llm(message:str, model=\"meta-llama/Llama-3.3-70B-Instruct\"):\n",
    "    \"\"\"A prompt helper function that sends a message to ScaDS.AI LLM server at \n",
    "    ZIH TU Dresden and returns only the text response.\n",
    "    \"\"\"\n",
    "    import os\n",
    "    import openai\n",
    "    \n",
    "    # convert message in the right format if necessary\n",
    "    if isinstance(message, str):\n",
    "        message = [{\"role\": \"user\", \"content\": message}]\n",
    "    \n",
    "    # setup connection to the LLM\n",
    "    client = openai.OpenAI(base_url=\"https://llm.scads.ai/v1\",\n",
    "                           api_key=os.environ.get('SCADSAI_API_KEY')\n",
    "    )\n",
    "    response = client.chat.completions.create(\n",
    "        model=model,\n",
    "        messages=message\n",
    "    )\n",
    "    \n",
    "    # extract answer\n",
    "    return response.choices[0].message.content"
   ]
  },
  {
   "cell_type": "code",
   "execution_count": 3,
   "id": "a7654a20-a307-4b26-8d25-bef20b70224e",
   "metadata": {
    "tags": []
   },
   "outputs": [
    {
     "name": "stdout",
     "output_type": "stream",
     "text": [
      "How can I assist you today?\n"
     ]
    }
   ],
   "source": [
    "print(prompt_scadsai_llm(\"Hi!\"))"
   ]
  },
  {
   "cell_type": "markdown",
   "id": "73cdb5b7-988f-493c-af46-9b3953150108",
   "metadata": {},
   "source": [
    "We can also use reasoning models such as the [DeepSeek-R1](https://github.com/deepseek-ai/DeepSeek-R1) model hosted on the server."
   ]
  },
  {
   "cell_type": "code",
   "execution_count": 4,
   "id": "8a5b19a5-f506-4b52-8130-553f02f1aaa7",
   "metadata": {},
   "outputs": [
    {
     "name": "stdout",
     "output_type": "stream",
     "text": [
      "\n",
      "\n",
      "The question \"What is the meaning of life?\" is one of humanity’s oldest and most profound inquiries, with answers varying widely across philosophical, religious, scientific, and personal perspectives. Here’s a concise overview:\n",
      "\n",
      "1. **Philosophical Perspectives**:  \n",
      "   - **Existentialism**: Thinkers like Jean-Paul Sartre and Albert Camus argue that life has no inherent meaning; individuals must create their own purpose through choices, passions, and actions.  \n",
      "   - **Absurdism**: Camus also suggested that while life may lack intrinsic meaning, embracing the \"absurd\" (the conflict between our search for meaning and an indifferent universe) can lead to a fulfilling, rebellious existence.  \n",
      "   - **Nihilism**: Contends that life is without objective meaning, purpose, or intrinsic value, though responses to this view range from despair to liberation.  \n",
      "\n",
      "2. **Religious/Spiritual Views**:  \n",
      "   - Many traditions propose transcendent purposes. For example, in Christianity, meaning is found in a relationship with God; Buddhism emphasizes ending suffering (dukkha) through enlightenment; Hinduism focuses on Dharma (duty) and Moksha (liberation).  \n",
      "\n",
      "3. **Scientific Lens**:  \n",
      "   - Biology suggests life’s \"purpose\" is survival and reproduction, driven by evolution. However, this mechanistic view doesn’t address subjective human experiences of meaning.  \n",
      "   - Cosmology might frame life as a rare, fleeting phenomenon in an indifferent universe, inviting awe rather than teleology.  \n",
      "\n",
      "4. **Personal and Subjective Meaning**:  \n",
      "   - Many find purpose in relationships, creativity, knowledge, service, or personal growth. Viktor Frankl, a Holocaust survivor and psychiatrist, argued that meaning arises even in suffering when we seek responsibility and purpose.  \n",
      "\n",
      "**Conclusion**: There is no universal answer. The meaning of life is often seen as a deeply personal journey, shaped by individual values, experiences, and cultural context. It may lie in asking the question itself—continually exploring what inspires connection, wonder, or fulfillment in your own life. As Rainer Maria Rilke wrote: *\"Live the questions now.\"*\n"
     ]
    }
   ],
   "source": [
    "print(prompt_scadsai_llm(\"What is the meaning of life?\", model=\"deepseek-ai/DeepSeek-R1\"))"
   ]
  },
  {
   "cell_type": "markdown",
   "id": "578e9edd-b58f-4fd0-a56d-1966105221dc",
   "metadata": {},
   "source": [
    "## Exercise\n",
    "List the models available in the endpoint and try them out by specifying them when calling `prompt_scadsai_llm(\"...\", model=...)`."
   ]
  },
  {
   "cell_type": "code",
   "execution_count": 5,
   "id": "05171ba7-a775-41c5-954d-7d4fc2b5b625",
   "metadata": {},
   "outputs": [
    {
     "name": "stdout",
     "output_type": "stream",
     "text": [
      "meta-llama/Llama-3.3-70B-Instruct\n",
      "mistral-7b-q4\n",
      "black-forest-labs/FLUX.1-dev\n",
      "deepseek-ai/DeepSeek-Coder-V2-Lite-Instruct\n",
      "deepseek-ai/DeepSeek-R1\n",
      "Qwen/Qwen2-VL-7B-Instruct\n",
      "tts-1-hd\n",
      "meta-llama/Llama-4-Scout-17B-16E-Instruct\n",
      "stabilityai/stable-diffusion-3.5-large\n",
      "Kokoro-82M\n",
      "en-de-translator\n",
      "intfloat/multilingual-e5-large-instruct\n",
      "openGPT-X/Teuken-7B-instruct-research-v0.4\n"
     ]
    }
   ],
   "source": [
    "client = openai.OpenAI(base_url=\"https://llm.scads.ai/v1\",\n",
    "                       api_key=os.environ.get('SCADSAI_API_KEY'))\n",
    "\n",
    "print(\"\\n\".join([model.id for model in client.models.list().data]))"
   ]
  },
  {
   "cell_type": "code",
   "execution_count": null,
   "id": "7e810ee2-4d22-42f6-add5-532cf95b4b9c",
   "metadata": {},
   "outputs": [],
   "source": []
  }
 ],
 "metadata": {
  "kernelspec": {
   "display_name": "Python 3 (ipykernel)",
   "language": "python",
   "name": "python3"
  },
  "language_info": {
   "codemirror_mode": {
    "name": "ipython",
    "version": 3
   },
   "file_extension": ".py",
   "mimetype": "text/x-python",
   "name": "python",
   "nbconvert_exporter": "python",
   "pygments_lexer": "ipython3",
   "version": "3.11.13"
  }
 },
 "nbformat": 4,
 "nbformat_minor": 5
}
