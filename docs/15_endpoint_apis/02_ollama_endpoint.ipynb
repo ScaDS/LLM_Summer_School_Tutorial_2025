{
 "cells": [
  {
   "cell_type": "markdown",
   "id": "87404224-b84b-409f-8683-c4a243d29722",
   "metadata": {},
   "source": [
    "# Ollama\n",
    "[Ollama](https://ollama.com/download) is a tool that downloads models to our computer and allows us to run them locally. Before executing the following code, you need to run `ollama run gemma3:1b` once, if you didn't do this during setup. Also, depending on how you installed ollama, you may have to execute it in a terminal window using this command, before executing this notebook:\n",
    "\n",
    "```\n",
    "ollam serve\n",
    "```\n",
    "\n",
    "If you can't recall which models you already downloaded, you can list them:\n",
    "\n",
    "```\n",
    "ollama list\n",
    "```\n",
    "\n",
    "As you will see, we access the local models offered via ollama using the OpenAI API as shown before. We just exchange the `base_url` and we do not need to provide an API-Key."
   ]
  },
  {
   "cell_type": "code",
   "execution_count": 1,
   "id": "752e974d-9aaf-44aa-80fb-01a042cf5774",
   "metadata": {
    "tags": []
   },
   "outputs": [
    {
     "data": {
      "text/plain": [
       "'1.74.0'"
      ]
     },
     "execution_count": 1,
     "metadata": {},
     "output_type": "execute_result"
    }
   ],
   "source": [
    "import openai\n",
    "openai.__version__"
   ]
  },
  {
   "cell_type": "code",
   "execution_count": 2,
   "id": "abae6df9-543d-4d70-a907-f337872b4f17",
   "metadata": {
    "tags": []
   },
   "outputs": [],
   "source": [
    "def prompt_ollama(prompt:str, model=\"gemma3:1b\"):\n",
    "    \"\"\"A prompt helper function that sends a prompt to \n",
    "    ollama and returns only the text response.\"\"\"\n",
    "    # setup connection to the LLM server\n",
    "    client = openai.OpenAI(\n",
    "        base_url = \"http://localhost:11434/v1\",\n",
    "        api_key = \"none\" # not required by ollama\n",
    "    )\n",
    "    response = client.chat.completions.create(\n",
    "        model=model,\n",
    "        messages=[{\"role\": \"user\", \"content\": prompt}]\n",
    "    )\n",
    "    \n",
    "    # extract answer\n",
    "    return response.choices[0].message.content"
   ]
  },
  {
   "cell_type": "code",
   "execution_count": 3,
   "id": "e514bf8a-74aa-4f7e-83e7-fd6cc82d5719",
   "metadata": {
    "tags": []
   },
   "outputs": [
    {
     "data": {
      "text/plain": [
       "\"Hi there! How's your day going so far? 😊 \\n\\nIs there anything you’d like to talk about or any I can help you with?\""
      ]
     },
     "execution_count": 3,
     "metadata": {},
     "output_type": "execute_result"
    }
   ],
   "source": [
    "prompt_ollama(\"Hi!\")"
   ]
  },
  {
   "cell_type": "markdown",
   "id": "92ac048e-fdda-4b3d-b744-ba2157f204d9",
   "metadata": {},
   "source": [
    "## Exercise\n",
    "Explore the [list of models](https://ollama.com/library) offered by ollama. If you have time and free harddrive space, download some models and try them out. Use `ollama run ...` to download and try a model in the terminal. Use `ollama list` to list all models and `ollama rm ...` to delete a model."
   ]
  },
  {
   "cell_type": "code",
   "execution_count": 4,
   "id": "5551d8ef-00e2-4d98-80c7-1f792901b069",
   "metadata": {
    "tags": []
   },
   "outputs": [
    {
     "name": "stdout",
     "output_type": "stream",
     "text": [
      "bakllava:latest\n",
      "deepseek-coder-v2:latest\n",
      "deepseek-r1:1.5b\n",
      "deepseek-r1:latest\n",
      "gemma3:12b\n",
      "gemma3:1b\n",
      "gemma3:4b\n",
      "granite3.2-vision:latest\n",
      "llama3.1:latest\n",
      "llama3.2-vision:11b\n",
      "llama3.2-vision:latest\n",
      "llama3.2:1b\n",
      "llama3.2:latest\n",
      "llava:13b\n",
      "llava:latest\n",
      "minicpm-v:latest\n",
      "mistral:latest\n",
      "moondream:latest\n",
      "moondream:v2\n",
      "mxbai-embed-large:latest\n",
      "nomic-embed-text:latest\n",
      "olfh/teuken-7b-instruct-commercial-v0.4:latest\n",
      "phi3.5:latest\n",
      "qwen2.5vl:7b\n",
      "qwen3:4b\n",
      "qwen3:8b\n"
     ]
    }
   ],
   "source": [
    "client = openai.OpenAI(base_url = \"http://localhost:11434/v1\")\n",
    "\n",
    "print(\"\\n\".join(sorted([model.id for model in client.models.list().data])))"
   ]
  },
  {
   "cell_type": "code",
   "execution_count": null,
   "id": "f706c05e-6fea-44a5-a526-ac28dc34971a",
   "metadata": {},
   "outputs": [],
   "source": []
  }
 ],
 "metadata": {
  "kernelspec": {
   "display_name": "Python 3 (ipykernel)",
   "language": "python",
   "name": "python3"
  },
  "language_info": {
   "codemirror_mode": {
    "name": "ipython",
    "version": 3
   },
   "file_extension": ".py",
   "mimetype": "text/x-python",
   "name": "python",
   "nbconvert_exporter": "python",
   "pygments_lexer": "ipython3",
   "version": "3.11.11"
  }
 },
 "nbformat": 4,
 "nbformat_minor": 5
}
