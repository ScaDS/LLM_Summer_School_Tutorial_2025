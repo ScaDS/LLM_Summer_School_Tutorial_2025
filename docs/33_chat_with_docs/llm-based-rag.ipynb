{
 "cells": [
  {
   "cell_type": "markdown",
   "id": "84e92e66-e148-43ed-a0b6-70d5125f5ddb",
   "metadata": {},
   "source": [
    "# LLM-based Retrieval Augmented Generation\n",
    "\n",
    "In case text-embeddings perform poorly for identifying relevant documents, one can also ask LLMs to identify relevant documents. Therefore, we provide a list of files with corresponding summaries of these files and ask the LLM to tell us which documents are relevant. We then take the content of this document selection and assemble it to a long-context prompt."
   ]
  },
  {
   "cell_type": "code",
   "execution_count": 1,
   "id": "78729cc5-635e-40b6-8925-db3bd09aa4cf",
   "metadata": {},
   "outputs": [],
   "source": [
    "from utilities import prompt_scadsai_llm, remove_outer_markdown, text_to_json\n",
    "from IPython.display import display, Markdown"
   ]
  },
  {
   "cell_type": "code",
   "execution_count": 2,
   "id": "0903fa1b-c24b-44fb-9224-214076908972",
   "metadata": {},
   "outputs": [],
   "source": [
    "docs_root_folder = \"hpc-compendium/doc.zih.tu-dresden.de/docs/\""
   ]
  },
  {
   "cell_type": "code",
   "execution_count": 3,
   "id": "b9e7b794-8050-4557-b1c4-d83328b8fcf2",
   "metadata": {},
   "outputs": [],
   "source": [
    "compendium_url = \"https://compendium.hpc.tu-dresden.de/\""
   ]
  },
  {
   "cell_type": "markdown",
   "id": "258fc681-7a70-451c-b99a-493958463e1f",
   "metadata": {},
   "source": [
    "This is again the question we aim to answer:"
   ]
  },
  {
   "cell_type": "code",
   "execution_count": 4,
   "id": "7f3b5605-b443-4e7a-9876-582635ac4320",
   "metadata": {},
   "outputs": [],
   "source": [
    "question = \"How can I access the Jupyter Hub on the HPC system?\""
   ]
  },
  {
   "cell_type": "markdown",
   "id": "74de2584-5439-476d-8420-856200e15014",
   "metadata": {},
   "source": [
    "## Identifying relevant documents\n",
    "To identify relevant documents, we first load the summary list."
   ]
  },
  {
   "cell_type": "code",
   "execution_count": 5,
   "id": "16fd8f95-7f51-43d8-bc4e-79263e0f91a5",
   "metadata": {},
   "outputs": [
    {
     "name": "stdout",
     "output_type": "stream",
     "text": [
      "First part of the content:\n",
      "* accessibility.md:\n",
      "This document is an accessibility statement for the Technische Universität Dresden's websites, outlining the university's efforts to make its online presence accessible in accordance with German laws and regulations, and providing contact information for reporting accessibility issues and seeking remedies.\n",
      "\n",
      "* data_protection_declaration.md:\n",
      "This document outlines a data protection policy, stating that only IP addresses are collected for error analysis and stored temporarily, with users having the right to request information about their data and contact relevant authorities if needed.\n",
      "\n",
      "* index.md:\n",
      "This document provides an overview of the High-Performance Computing (HPC)  ...\n"
     ]
    }
   ],
   "source": [
    "# Read the content of summaries.md \n",
    "with open('hpc_compendium_summaries.md', 'r', encoding='utf-8') as f:\n",
    "    summaries = f.read()\n",
    "\n",
    "# Print first 300 characters to verify\n",
    "print(\"First part of the content:\")\n",
    "print(summaries[:700], \"...\")"
   ]
  },
  {
   "cell_type": "code",
   "execution_count": 6,
   "id": "ea24cc22-2c2b-4991-9615-2c152d2fcfe3",
   "metadata": {},
   "outputs": [
    {
     "name": "stdout",
     "output_type": "stream",
     "text": [
      "access/jupyterhub.md\n",
      "access/jupyterlab.md\n",
      "access/overview.md\n",
      "quickstart/getting_started.md\n"
     ]
    }
   ],
   "source": [
    "response = prompt_scadsai_llm(f\"\"\"\n",
    "Given a question and a list of document summaries, identify documents that might be helpful for answering the question.\n",
    "\n",
    "## Question\n",
    "{question} \n",
    "\n",
    "## Document summaries\n",
    "\n",
    "{summaries}\n",
    "\n",
    "## Your task:\n",
    "Which of the documents above might be relevant for answering this question: {question}\n",
    "\n",
    "Answer with a list of filenames in JSON format\n",
    "\"\"\")\n",
    "\n",
    "# post-processing of the result to get a proper list\n",
    "json = remove_outer_markdown(response)\n",
    "relevant_file_paths = text_to_json(json)\n",
    "[print(f) for f in relevant_file_paths];"
   ]
  },
  {
   "cell_type": "code",
   "execution_count": 7,
   "id": "7a7d6d08-fd7f-41e2-991c-3ff61b69322f",
   "metadata": {},
   "outputs": [
    {
     "data": {
      "text/plain": [
       "'### https://compendium.hpc.tu-dresden.de/access/jupyterhub \\n\\n```\\n# JupyterHub\\n\\nWith our JupyterHub service, we offer you a quick and easy way to work with\\nJupyter notebooks on ZIH systems. This page covers starting and stopping\\nJupyterHub sessions, error handling and customizing the environment.\\n\\nWe also provide a comprehensive documentation on how to use\\n[JupyterHub for Teaching (git-pull feature, quickstart links, direct links to notebook files)](jupyterhub_for_teaching.md).\\n\\n## Disclaimer\\n\\n!!'"
      ]
     },
     "execution_count": 7,
     "metadata": {},
     "output_type": "execute_result"
    }
   ],
   "source": [
    "full_texts = {}\n",
    "for file in relevant_file_paths:\n",
    "    with open(docs_root_folder + file, 'r', encoding='utf-8') as f:\n",
    "        full_texts[compendium_url + file[:-3]] = f.read()\n",
    "\n",
    "\n",
    "documents = \"\\n\".join([f\"### {file} \\n\\n```\\n{content}\\n```\\n\" for file, content in full_texts.items()])\n",
    "\n",
    "documents[:500]"
   ]
  },
  {
   "cell_type": "code",
   "execution_count": 8,
   "id": "4eab789f-aca4-4527-ae74-3ae1a62f9d17",
   "metadata": {},
   "outputs": [
    {
     "data": {
      "text/markdown": [
       "To access the Jupyter Hub on the HPC system, you can follow these steps:\n",
       "\n",
       "1. Go to the [JupyterHub page](https://compendium.hpc.tu-dresden.de/access/jupyterhub) and click on the link to access JupyterHub.\n",
       "2. Log in with your ZIH credentials (without @tu-dresden.de).\n",
       "3. Choose a profile (system and resources) and start a new session.\n",
       "\n",
       "As mentioned in the [JupyterHub documentation](https://compendium.hpc.tu-dresden.de/access/jupyterhub), \"JupyterHub is available at [https://jupyterhub.hpc.tu-dresden.de](https://jupyterhub.hpc.tu-dresden.de).\" \n",
       "\n",
       "Also, note that you need to have an active HPC project to access JupyterHub, as stated in the [Access to ZIH Systems](https://compendium.hpc.tu-dresden.de/access/overview) document. \n",
       "\n",
       "For more information on accessing JupyterHub and working with Jupyter notebooks on the HPC system, you can refer to the [Quick Start](https://compendium.hpc.tu-dresden.de/quickstart/getting_started) guide, which provides an overview of the steps needed to submit a High Performance Computing (HPC) job, including accessing JupyterHub."
      ],
      "text/plain": [
       "<IPython.core.display.Markdown object>"
      ]
     },
     "metadata": {},
     "output_type": "display_data"
    }
   ],
   "source": [
    "response = prompt_scadsai_llm(f\"\"\"\n",
    "Given a question and a list of document summaries, identify documents that might be helpful for answering the question.\n",
    "\n",
    "## Question\n",
    "{question} \n",
    "\n",
    "## Documents\n",
    "\n",
    "{documents}\n",
    "\n",
    "## Your task:\n",
    "Answer question: {question}\n",
    "In case you used one of the documents above, cite it using markdown-formatted links to the respective document. Keep the links untouched!\n",
    "\"\"\")\n",
    "\n",
    "display(Markdown(response))"
   ]
  },
  {
   "cell_type": "markdown",
   "id": "3c5924ea-d9fe-4df8-b7cb-cc592b64c99e",
   "metadata": {},
   "source": [
    "## Exercise\n",
    "Measure how long it takes to retrieve an answer using this approach, compared to long-context prompting. \n",
    "\n",
    "Hint: Use the same LLM for both approaches. To do this with a length-limited LLM, you may have to shorten the full text."
   ]
  },
  {
   "cell_type": "code",
   "execution_count": null,
   "id": "bc068194-b484-4a10-a95f-f02cfd38e8f2",
   "metadata": {},
   "outputs": [],
   "source": []
  }
 ],
 "metadata": {
  "kernelspec": {
   "display_name": "Python 3 (ipykernel)",
   "language": "python",
   "name": "python3"
  },
  "language_info": {
   "codemirror_mode": {
    "name": "ipython",
    "version": 3
   },
   "file_extension": ".py",
   "mimetype": "text/x-python",
   "name": "python",
   "nbconvert_exporter": "python",
   "pygments_lexer": "ipython3",
   "version": "3.11.11"
  }
 },
 "nbformat": 4,
 "nbformat_minor": 5
}
