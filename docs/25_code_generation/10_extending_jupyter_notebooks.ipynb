{
 "cells": [
  {
   "cell_type": "markdown",
   "id": "2870e834-0e8c-4b6b-a5ef-77b23ba9434a",
   "metadata": {
    "tags": []
   },
   "source": [
    "# Extending Jupyter Notebooks\n",
    "In this notebook we will learn how we can use Python to modify cells in the Jupyter notebook we are executing right now using [IPython](https://ipython.org/)."
   ]
  },
  {
   "cell_type": "code",
   "execution_count": 1,
   "id": "458839dc-f11f-4f1c-802b-ce5c39867282",
   "metadata": {
    "tags": []
   },
   "outputs": [],
   "source": [
    "import IPython"
   ]
  },
  {
   "cell_type": "markdown",
   "id": "4ba9db3c-c859-4daa-8d69-c598ae03fdc4",
   "metadata": {
    "tags": []
   },
   "source": [
    "## Adding cells\n",
    "First we setup a function that can add a new cell to our jupyter notebook."
   ]
  },
  {
   "cell_type": "code",
   "execution_count": 2,
   "id": "ff72cc59-9b59-4c5e-ac7f-7a518832159c",
   "metadata": {
    "tags": []
   },
   "outputs": [],
   "source": [
    "def add_code_cell_below(code, replace_current_cell=False, execute_code:bool=False):\n",
    "    \"\"\"\n",
    "    Add a new code cell to the currently running Jupyter Notebook.\n",
    "    Optional: Replace the current cell instead of creating a new one.\n",
    "    Optional: Execute the code\n",
    "    \"\"\"\n",
    "    from IPython.core.getipython import get_ipython\n",
    "\n",
    "    p = get_ipython()\n",
    "\n",
    "    p.set_next_input(code, replace=replace_current_cell)\n",
    "    if execute_code:\n",
    "        p.run_cell(code)"
   ]
  },
  {
   "cell_type": "code",
   "execution_count": 3,
   "id": "539d39d3-1dbc-43a4-a4e9-8fd6d10bd7e6",
   "metadata": {
    "tags": []
   },
   "outputs": [],
   "source": [
    "add_code_cell_below(\"print('Hello World')\")"
   ]
  },
  {
   "cell_type": "code",
   "execution_count": null,
   "id": "d9977c46-f215-4d74-a504-0cd6666bfd2f",
   "metadata": {},
   "outputs": [],
   "source": [
    "print('Hello World')"
   ]
  },
  {
   "cell_type": "code",
   "execution_count": 4,
   "id": "3a92e3e4-2957-4df3-aac2-d9337537c120",
   "metadata": {},
   "outputs": [
    {
     "name": "stdout",
     "output_type": "stream",
     "text": [
      "Hello World\n"
     ]
    }
   ],
   "source": [
    "print('Hello World')"
   ]
  },
  {
   "cell_type": "markdown",
   "id": "2ecd9dfb-a699-4cd6-a418-b461fe6b50d5",
   "metadata": {},
   "source": [
    "## Jupyter Magics\n",
    "Next, we introduce a new Jupyter magic, that allows us to handle text in Jupyter cells when the user hits SHIFT+ENTER."
   ]
  },
  {
   "cell_type": "code",
   "execution_count": 5,
   "id": "d96d20e9-c0b9-4ae7-9821-bf9c70b67af8",
   "metadata": {
    "tags": []
   },
   "outputs": [],
   "source": [
    "from IPython.core.magic import register_line_cell_magic\n",
    "from llm_utilities import prompt_scadsai_llm\n",
    "\n",
    "@register_line_cell_magic\n",
    "def alice(line: str, cell: str = \"\"):\n",
    "    # ask LLM to write code\n",
    "    code = prompt_scadsai_llm(f\"\"\"Please write Python code which does this: \n",
    " ----------------------------------------------\n",
    "| YOU CAN ENTER DOMAIN SPECIFIC KNOWLEDGE HERE |\n",
    " ----------------------------------------------\n",
    "\n",
    "{line}\n",
    "{cell}\n",
    "\n",
    "Do not explain anything, just provide the code.\"\"\")\n",
    "    \n",
    "    # clean output\n",
    "    code = code.strip(\"\\n\").strip(\"```python\").strip(\"```\").strip(\"\\n\")\n",
    "    \n",
    "    add_code_cell_below(code)"
   ]
  },
  {
   "cell_type": "code",
   "execution_count": 6,
   "id": "55c7bfb1-68b1-4ee3-8889-777a8c5f99d9",
   "metadata": {
    "tags": []
   },
   "outputs": [],
   "source": [
    "%alice print Hello world!"
   ]
  },
  {
   "cell_type": "code",
   "execution_count": null,
   "id": "57e22256-507b-4772-8379-04f747960439",
   "metadata": {},
   "outputs": [],
   "source": [
    "print(\"Hello world!\")"
   ]
  },
  {
   "cell_type": "code",
   "execution_count": 7,
   "id": "2043c7fc-3a02-4103-bc17-ff99484c152e",
   "metadata": {},
   "outputs": [
    {
     "name": "stdout",
     "output_type": "stream",
     "text": [
      "Hello world!\n"
     ]
    }
   ],
   "source": [
    "print(\"Hello world!\")"
   ]
  },
  {
   "cell_type": "markdown",
   "id": "53f2621e-d39b-4ace-9511-7d641e3dfebd",
   "metadata": {},
   "source": [
    "## Exercise\n",
    "Create an image processing workflow by writing english prompts only. Try to not edit code manually."
   ]
  },
  {
   "cell_type": "code",
   "execution_count": 14,
   "id": "8a8f66a7-0e43-48bf-8d30-c37cf4f6ffff",
   "metadata": {},
   "outputs": [],
   "source": [
    "%%alice \n",
    "please write very short python code for plotting a \n",
    "sigmoid function"
   ]
  },
  {
   "cell_type": "code",
   "execution_count": 15,
   "id": "8ebf2eaa-3dbd-470b-a223-9bd439a4162f",
   "metadata": {},
   "outputs": [
    {
     "data": {
      "image/png": "[encoded data removed]",
      "text/plain": [
       "<Figure size 640x480 with 1 Axes>"
      ]
     },
     "metadata": {},
     "output_type": "display_data"
    }
   ],
   "source": [
    "import numpy as np\n",
    "import matplotlib.pyplot as plt\n",
    "\n",
    "x = np.linspace(-10, 10, 100)\n",
    "y = 1 / (1 + np.exp(-x))\n",
    "\n",
    "plt.plot(x, y)\n",
    "plt.show()"
   ]
  },
  {
   "cell_type": "code",
   "execution_count": null,
   "id": "b155b55b-2dac-4904-b985-20126c13d6dd",
   "metadata": {},
   "outputs": [],
   "source": []
  }
 ],
 "metadata": {
  "kernelspec": {
   "display_name": "Python 3 (ipykernel)",
   "language": "python",
   "name": "python3"
  },
  "language_info": {
   "codemirror_mode": {
    "name": "ipython",
    "version": 3
   },
   "file_extension": ".py",
   "mimetype": "text/x-python",
   "name": "python",
   "nbconvert_exporter": "python",
   "pygments_lexer": "ipython3",
   "version": "3.11.13"
  }
 },
 "nbformat": 4,
 "nbformat_minor": 5
}
